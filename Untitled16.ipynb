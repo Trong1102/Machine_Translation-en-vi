{
  "nbformat": 4,
  "nbformat_minor": 0,
  "metadata": {
    "colab": {
      "provenance": []
    },
    "kernelspec": {
      "name": "python3",
      "display_name": "Python 3"
    },
    "language_info": {
      "name": "python"
    }
  },
  "cells": [
    {
      "cell_type": "code",
      "execution_count": 11,
      "metadata": {
        "id": "lQr2IeJFaH43"
      },
      "outputs": [],
      "source": [
        "import pandas as pd\n",
        "import os"
      ]
    },
    {
      "cell_type": "code",
      "source": [
        "dataset1_path = \"/content/drive/MyDrive/Colab Notebooks/dataset1\"\n",
        "dataset2_path = \"/content/drive/MyDrive/Colab Notebooks/dataset2\""
      ],
      "metadata": {
        "id": "AzCIsmjjacQ2"
      },
      "execution_count": 12,
      "outputs": []
    },
    {
      "cell_type": "code",
      "source": [
        "train_dataset1 = pd.read_csv(os.path.join(dataset1_path, \"train.csv\"))\n",
        "test_dataset1 = pd.read_csv(os.path.join(dataset1_path, \"test.csv\"))"
      ],
      "metadata": {
        "id": "iPoM9TiTbvbi"
      },
      "execution_count": 13,
      "outputs": []
    },
    {
      "cell_type": "code",
      "source": [
        "train_dataset2 = pd.read_csv(os.path.join(dataset2_path, \"train.en\"), sep=\"\\t\", names=[\"en\"])\n",
        "test_dataset2 = pd.read_csv(os.path.join(dataset2_path, \"tst2012.en\"), sep=\"\\t\", names=[\"en\"])"
      ],
      "metadata": {
        "id": "2f_XVtxDbzEF"
      },
      "execution_count": 14,
      "outputs": []
    },
    {
      "cell_type": "code",
      "source": [
        "train_dataset2 = pd.concat([train_dataset2, train_dataset1[\"en\"], test_dataset1[\"en\"]], axis=0)"
      ],
      "metadata": {
        "id": "cexUUw49b24g"
      },
      "execution_count": 15,
      "outputs": []
    },
    {
      "cell_type": "code",
      "source": [
        "train_dataset2.to_csv(\"/content/drive/MyDrive/Colab Notebooks/dataset3/train.en\", sep=\"\\t\", index=False, header=False)"
      ],
      "metadata": {
        "id": "TuZTjvaWcLSj"
      },
      "execution_count": 16,
      "outputs": []
    },
    {
      "cell_type": "code",
      "source": [
        "test_dataset2 = pd.concat([test_dataset2, test_dataset1[\"en\"]], axis=0)"
      ],
      "metadata": {
        "id": "pNDsG2pAcObl"
      },
      "execution_count": 17,
      "outputs": []
    },
    {
      "cell_type": "code",
      "source": [
        "test_dataset2.to_csv(\"/content/drive/MyDrive/Colab Notebooks/dataset3/tst2012.en\", sep=\"\\t\", index=False, header=False)"
      ],
      "metadata": {
        "id": "cX7mEPBRcnR6"
      },
      "execution_count": 19,
      "outputs": []
    },
    {
      "cell_type": "code",
      "source": [
        "train_dataset2_vi = pd.read_csv(os.path.join(dataset2_path, \"train.vi\"), sep=\"\\t\", names=[\"vi\"])\n",
        "test_dataset2_vi = pd.read_csv(os.path.join(dataset2_path, \"tst2012.vi\"), sep=\"\\t\", names=[\"vi\"])"
      ],
      "metadata": {
        "id": "Xwlv4ct3cpQP"
      },
      "execution_count": 20,
      "outputs": []
    },
    {
      "cell_type": "code",
      "source": [
        "train_dataset2_vi = pd.concat([train_dataset2_vi, train_dataset1[\"vi\"], test_dataset1[\"vi\"]], axis=0)\n",
        "train_dataset2_vi.to_csv(\"/content/drive/MyDrive/Colab Notebooks/dataset3/train.vi\", sep=\"\\t\", index=False, header=False)"
      ],
      "metadata": {
        "id": "xGN1sWLqcvu7"
      },
      "execution_count": 23,
      "outputs": []
    },
    {
      "cell_type": "code",
      "source": [
        "test_dataset2_vi = pd.concat([test_dataset2_vi, test_dataset1[\"vi\"]], axis=0)\n",
        "test_dataset2_vi.to_csv(\"/content/drive/MyDrive/Colab Notebooks/dataset3/tst2012.vi\", sep=\"\\t\", index=False, header=False)"
      ],
      "metadata": {
        "id": "yaMFmR8zcyu8"
      },
      "execution_count": 25,
      "outputs": []
    },
    {
      "cell_type": "code",
      "source": [],
      "metadata": {
        "id": "wa33uVjTc57D"
      },
      "execution_count": null,
      "outputs": []
    }
  ]
}