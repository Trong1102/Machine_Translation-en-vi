{
  "nbformat": 4,
  "nbformat_minor": 0,
  "metadata": {
    "colab": {
      "provenance": []
    },
    "kernelspec": {
      "name": "python3",
      "display_name": "Python 3"
    },
    "language_info": {
      "name": "python"
    }
  },
  "cells": [
    {
      "cell_type": "code",
      "execution_count": null,
      "metadata": {
        "id": "A5PKDl0CsRzx"
      },
      "outputs": [],
      "source": [
        "import pandas as pd\n",
        "import os"
      ]
    },
    {
      "cell_type": "code",
      "source": [
        "dataset1_path = \"/content/drive/MyDrive/Colab Notebooks/dataset1\"\n",
        "dataset2_path = \"/content/drive/MyDrive/Colab Notebooks/dataset2\""
      ],
      "metadata": {
        "id": "4hHeGxaSsUJj"
      },
      "execution_count": null,
      "outputs": []
    },
    {
      "cell_type": "code",
      "source": [
        "train_dataset1 = pd.read_csv(os.path.join(dataset1_path, \"train.csv\"))\n",
        "test_dataset1 = pd.read_csv(os.path.join(dataset1_path, \"test.csv\"))"
      ],
      "metadata": {
        "id": "zcvWDmxBsfiB"
      },
      "execution_count": null,
      "outputs": []
    },
    {
      "cell_type": "code",
      "source": [
        "train_dataset1.head()"
      ],
      "metadata": {
        "colab": {
          "base_uri": "https://localhost:8080/",
          "height": 206
        },
        "id": "vh385GTOsi6u",
        "outputId": "2c2771b2-bd68-4747-9e98-c0b9721d6b87"
      },
      "execution_count": null,
      "outputs": [
        {
          "output_type": "execute_result",
          "data": {
            "text/plain": [
              "                                                  en  \\\n",
              "0  Rachel Pike : The science behind a climate hea...   \n",
              "1  In 4 minutes , atmospheric chemist Rachel Pike...   \n",
              "2  I &apos;d like to talk to you today about the ...   \n",
              "3  Headlines that look like this when they have t...   \n",
              "4  They are both two branches of the same field o...   \n",
              "\n",
              "                                                  vi  \n",
              "0           Khoa_học đằng sau một tiêu_đề về khí_hậu  \n",
              "1  Trong 4 phút , chuyên_gia hoá_học khí_quyển Ra...  \n",
              "2  Tôi muốn cho các bạn biết về sự to_lớn của nhữ...  \n",
              "3  Có những dòng trông như thế_này khi bàn về biế...  \n",
              "4  Cả hai đều là một nhánh của cùng một lĩnh_vực ...  "
            ],
            "text/html": [
              "\n",
              "  <div id=\"df-b4a431a5-4db0-4d03-af05-122b6aba56fd\">\n",
              "    <div class=\"colab-df-container\">\n",
              "      <div>\n",
              "<style scoped>\n",
              "    .dataframe tbody tr th:only-of-type {\n",
              "        vertical-align: middle;\n",
              "    }\n",
              "\n",
              "    .dataframe tbody tr th {\n",
              "        vertical-align: top;\n",
              "    }\n",
              "\n",
              "    .dataframe thead th {\n",
              "        text-align: right;\n",
              "    }\n",
              "</style>\n",
              "<table border=\"1\" class=\"dataframe\">\n",
              "  <thead>\n",
              "    <tr style=\"text-align: right;\">\n",
              "      <th></th>\n",
              "      <th>en</th>\n",
              "      <th>vi</th>\n",
              "    </tr>\n",
              "  </thead>\n",
              "  <tbody>\n",
              "    <tr>\n",
              "      <th>0</th>\n",
              "      <td>Rachel Pike : The science behind a climate hea...</td>\n",
              "      <td>Khoa_học đằng sau một tiêu_đề về khí_hậu</td>\n",
              "    </tr>\n",
              "    <tr>\n",
              "      <th>1</th>\n",
              "      <td>In 4 minutes , atmospheric chemist Rachel Pike...</td>\n",
              "      <td>Trong 4 phút , chuyên_gia hoá_học khí_quyển Ra...</td>\n",
              "    </tr>\n",
              "    <tr>\n",
              "      <th>2</th>\n",
              "      <td>I &amp;apos;d like to talk to you today about the ...</td>\n",
              "      <td>Tôi muốn cho các bạn biết về sự to_lớn của nhữ...</td>\n",
              "    </tr>\n",
              "    <tr>\n",
              "      <th>3</th>\n",
              "      <td>Headlines that look like this when they have t...</td>\n",
              "      <td>Có những dòng trông như thế_này khi bàn về biế...</td>\n",
              "    </tr>\n",
              "    <tr>\n",
              "      <th>4</th>\n",
              "      <td>They are both two branches of the same field o...</td>\n",
              "      <td>Cả hai đều là một nhánh của cùng một lĩnh_vực ...</td>\n",
              "    </tr>\n",
              "  </tbody>\n",
              "</table>\n",
              "</div>\n",
              "      <button class=\"colab-df-convert\" onclick=\"convertToInteractive('df-b4a431a5-4db0-4d03-af05-122b6aba56fd')\"\n",
              "              title=\"Convert this dataframe to an interactive table.\"\n",
              "              style=\"display:none;\">\n",
              "        \n",
              "  <svg xmlns=\"http://www.w3.org/2000/svg\" height=\"24px\"viewBox=\"0 0 24 24\"\n",
              "       width=\"24px\">\n",
              "    <path d=\"M0 0h24v24H0V0z\" fill=\"none\"/>\n",
              "    <path d=\"M18.56 5.44l.94 2.06.94-2.06 2.06-.94-2.06-.94-.94-2.06-.94 2.06-2.06.94zm-11 1L8.5 8.5l.94-2.06 2.06-.94-2.06-.94L8.5 2.5l-.94 2.06-2.06.94zm10 10l.94 2.06.94-2.06 2.06-.94-2.06-.94-.94-2.06-.94 2.06-2.06.94z\"/><path d=\"M17.41 7.96l-1.37-1.37c-.4-.4-.92-.59-1.43-.59-.52 0-1.04.2-1.43.59L10.3 9.45l-7.72 7.72c-.78.78-.78 2.05 0 2.83L4 21.41c.39.39.9.59 1.41.59.51 0 1.02-.2 1.41-.59l7.78-7.78 2.81-2.81c.8-.78.8-2.07 0-2.86zM5.41 20L4 18.59l7.72-7.72 1.47 1.35L5.41 20z\"/>\n",
              "  </svg>\n",
              "      </button>\n",
              "      \n",
              "  <style>\n",
              "    .colab-df-container {\n",
              "      display:flex;\n",
              "      flex-wrap:wrap;\n",
              "      gap: 12px;\n",
              "    }\n",
              "\n",
              "    .colab-df-convert {\n",
              "      background-color: #E8F0FE;\n",
              "      border: none;\n",
              "      border-radius: 50%;\n",
              "      cursor: pointer;\n",
              "      display: none;\n",
              "      fill: #1967D2;\n",
              "      height: 32px;\n",
              "      padding: 0 0 0 0;\n",
              "      width: 32px;\n",
              "    }\n",
              "\n",
              "    .colab-df-convert:hover {\n",
              "      background-color: #E2EBFA;\n",
              "      box-shadow: 0px 1px 2px rgba(60, 64, 67, 0.3), 0px 1px 3px 1px rgba(60, 64, 67, 0.15);\n",
              "      fill: #174EA6;\n",
              "    }\n",
              "\n",
              "    [theme=dark] .colab-df-convert {\n",
              "      background-color: #3B4455;\n",
              "      fill: #D2E3FC;\n",
              "    }\n",
              "\n",
              "    [theme=dark] .colab-df-convert:hover {\n",
              "      background-color: #434B5C;\n",
              "      box-shadow: 0px 1px 3px 1px rgba(0, 0, 0, 0.15);\n",
              "      filter: drop-shadow(0px 1px 2px rgba(0, 0, 0, 0.3));\n",
              "      fill: #FFFFFF;\n",
              "    }\n",
              "  </style>\n",
              "\n",
              "      <script>\n",
              "        const buttonEl =\n",
              "          document.querySelector('#df-b4a431a5-4db0-4d03-af05-122b6aba56fd button.colab-df-convert');\n",
              "        buttonEl.style.display =\n",
              "          google.colab.kernel.accessAllowed ? 'block' : 'none';\n",
              "\n",
              "        async function convertToInteractive(key) {\n",
              "          const element = document.querySelector('#df-b4a431a5-4db0-4d03-af05-122b6aba56fd');\n",
              "          const dataTable =\n",
              "            await google.colab.kernel.invokeFunction('convertToInteractive',\n",
              "                                                     [key], {});\n",
              "          if (!dataTable) return;\n",
              "\n",
              "          const docLinkHtml = 'Like what you see? Visit the ' +\n",
              "            '<a target=\"_blank\" href=https://colab.research.google.com/notebooks/data_table.ipynb>data table notebook</a>'\n",
              "            + ' to learn more about interactive tables.';\n",
              "          element.innerHTML = '';\n",
              "          dataTable['output_type'] = 'display_data';\n",
              "          await google.colab.output.renderOutput(dataTable, element);\n",
              "          const docLink = document.createElement('div');\n",
              "          docLink.innerHTML = docLinkHtml;\n",
              "          element.appendChild(docLink);\n",
              "        }\n",
              "      </script>\n",
              "    </div>\n",
              "  </div>\n",
              "  "
            ]
          },
          "metadata": {},
          "execution_count": 6
        }
      ]
    },
    {
      "cell_type": "code",
      "source": [
        "test_dataset1.head()"
      ],
      "metadata": {
        "colab": {
          "base_uri": "https://localhost:8080/",
          "height": 206
        },
        "id": "G1dwbXhLsn0Y",
        "outputId": "819a8b50-36bd-41cc-c584-1bb5ed63fd6b"
      },
      "execution_count": null,
      "outputs": [
        {
          "output_type": "execute_result",
          "data": {
            "text/plain": [
              "                                                  en  \\\n",
              "0  How can I speak in 10 minutes about the bonds ...   \n",
              "1                     This is not a finished story .   \n",
              "2   It is a jigsaw puzzle still being put together .   \n",
              "3         Let me tell you about some of the pieces .   \n",
              "4  Imagine the first piece : a man burning his li...   \n",
              "\n",
              "                                                  vi  \n",
              "0  Làm_sao tôi có_thể trình_bày trong 10 phút về ...  \n",
              "1                     Câu_chuyện này chưa kết_thúc .  \n",
              "2   Nó là một trò_chơi ghép hình vẫn đang được xếp .  \n",
              "3   Hãy để tôi kể cho các bạn về vài mảnh ghép nhé .  \n",
              "4  Hãy tưởng_tượng mảnh đầu_tiên : một người đàn_...  "
            ],
            "text/html": [
              "\n",
              "  <div id=\"df-2ae59e08-634f-449b-a114-1fc8a2967e02\">\n",
              "    <div class=\"colab-df-container\">\n",
              "      <div>\n",
              "<style scoped>\n",
              "    .dataframe tbody tr th:only-of-type {\n",
              "        vertical-align: middle;\n",
              "    }\n",
              "\n",
              "    .dataframe tbody tr th {\n",
              "        vertical-align: top;\n",
              "    }\n",
              "\n",
              "    .dataframe thead th {\n",
              "        text-align: right;\n",
              "    }\n",
              "</style>\n",
              "<table border=\"1\" class=\"dataframe\">\n",
              "  <thead>\n",
              "    <tr style=\"text-align: right;\">\n",
              "      <th></th>\n",
              "      <th>en</th>\n",
              "      <th>vi</th>\n",
              "    </tr>\n",
              "  </thead>\n",
              "  <tbody>\n",
              "    <tr>\n",
              "      <th>0</th>\n",
              "      <td>How can I speak in 10 minutes about the bonds ...</td>\n",
              "      <td>Làm_sao tôi có_thể trình_bày trong 10 phút về ...</td>\n",
              "    </tr>\n",
              "    <tr>\n",
              "      <th>1</th>\n",
              "      <td>This is not a finished story .</td>\n",
              "      <td>Câu_chuyện này chưa kết_thúc .</td>\n",
              "    </tr>\n",
              "    <tr>\n",
              "      <th>2</th>\n",
              "      <td>It is a jigsaw puzzle still being put together .</td>\n",
              "      <td>Nó là một trò_chơi ghép hình vẫn đang được xếp .</td>\n",
              "    </tr>\n",
              "    <tr>\n",
              "      <th>3</th>\n",
              "      <td>Let me tell you about some of the pieces .</td>\n",
              "      <td>Hãy để tôi kể cho các bạn về vài mảnh ghép nhé .</td>\n",
              "    </tr>\n",
              "    <tr>\n",
              "      <th>4</th>\n",
              "      <td>Imagine the first piece : a man burning his li...</td>\n",
              "      <td>Hãy tưởng_tượng mảnh đầu_tiên : một người đàn_...</td>\n",
              "    </tr>\n",
              "  </tbody>\n",
              "</table>\n",
              "</div>\n",
              "      <button class=\"colab-df-convert\" onclick=\"convertToInteractive('df-2ae59e08-634f-449b-a114-1fc8a2967e02')\"\n",
              "              title=\"Convert this dataframe to an interactive table.\"\n",
              "              style=\"display:none;\">\n",
              "        \n",
              "  <svg xmlns=\"http://www.w3.org/2000/svg\" height=\"24px\"viewBox=\"0 0 24 24\"\n",
              "       width=\"24px\">\n",
              "    <path d=\"M0 0h24v24H0V0z\" fill=\"none\"/>\n",
              "    <path d=\"M18.56 5.44l.94 2.06.94-2.06 2.06-.94-2.06-.94-.94-2.06-.94 2.06-2.06.94zm-11 1L8.5 8.5l.94-2.06 2.06-.94-2.06-.94L8.5 2.5l-.94 2.06-2.06.94zm10 10l.94 2.06.94-2.06 2.06-.94-2.06-.94-.94-2.06-.94 2.06-2.06.94z\"/><path d=\"M17.41 7.96l-1.37-1.37c-.4-.4-.92-.59-1.43-.59-.52 0-1.04.2-1.43.59L10.3 9.45l-7.72 7.72c-.78.78-.78 2.05 0 2.83L4 21.41c.39.39.9.59 1.41.59.51 0 1.02-.2 1.41-.59l7.78-7.78 2.81-2.81c.8-.78.8-2.07 0-2.86zM5.41 20L4 18.59l7.72-7.72 1.47 1.35L5.41 20z\"/>\n",
              "  </svg>\n",
              "      </button>\n",
              "      \n",
              "  <style>\n",
              "    .colab-df-container {\n",
              "      display:flex;\n",
              "      flex-wrap:wrap;\n",
              "      gap: 12px;\n",
              "    }\n",
              "\n",
              "    .colab-df-convert {\n",
              "      background-color: #E8F0FE;\n",
              "      border: none;\n",
              "      border-radius: 50%;\n",
              "      cursor: pointer;\n",
              "      display: none;\n",
              "      fill: #1967D2;\n",
              "      height: 32px;\n",
              "      padding: 0 0 0 0;\n",
              "      width: 32px;\n",
              "    }\n",
              "\n",
              "    .colab-df-convert:hover {\n",
              "      background-color: #E2EBFA;\n",
              "      box-shadow: 0px 1px 2px rgba(60, 64, 67, 0.3), 0px 1px 3px 1px rgba(60, 64, 67, 0.15);\n",
              "      fill: #174EA6;\n",
              "    }\n",
              "\n",
              "    [theme=dark] .colab-df-convert {\n",
              "      background-color: #3B4455;\n",
              "      fill: #D2E3FC;\n",
              "    }\n",
              "\n",
              "    [theme=dark] .colab-df-convert:hover {\n",
              "      background-color: #434B5C;\n",
              "      box-shadow: 0px 1px 3px 1px rgba(0, 0, 0, 0.15);\n",
              "      filter: drop-shadow(0px 1px 2px rgba(0, 0, 0, 0.3));\n",
              "      fill: #FFFFFF;\n",
              "    }\n",
              "  </style>\n",
              "\n",
              "      <script>\n",
              "        const buttonEl =\n",
              "          document.querySelector('#df-2ae59e08-634f-449b-a114-1fc8a2967e02 button.colab-df-convert');\n",
              "        buttonEl.style.display =\n",
              "          google.colab.kernel.accessAllowed ? 'block' : 'none';\n",
              "\n",
              "        async function convertToInteractive(key) {\n",
              "          const element = document.querySelector('#df-2ae59e08-634f-449b-a114-1fc8a2967e02');\n",
              "          const dataTable =\n",
              "            await google.colab.kernel.invokeFunction('convertToInteractive',\n",
              "                                                     [key], {});\n",
              "          if (!dataTable) return;\n",
              "\n",
              "          const docLinkHtml = 'Like what you see? Visit the ' +\n",
              "            '<a target=\"_blank\" href=https://colab.research.google.com/notebooks/data_table.ipynb>data table notebook</a>'\n",
              "            + ' to learn more about interactive tables.';\n",
              "          element.innerHTML = '';\n",
              "          dataTable['output_type'] = 'display_data';\n",
              "          await google.colab.output.renderOutput(dataTable, element);\n",
              "          const docLink = document.createElement('div');\n",
              "          docLink.innerHTML = docLinkHtml;\n",
              "          element.appendChild(docLink);\n",
              "        }\n",
              "      </script>\n",
              "    </div>\n",
              "  </div>\n",
              "  "
            ]
          },
          "metadata": {},
          "execution_count": 7
        }
      ]
    },
    {
      "cell_type": "code",
      "source": [
        "train_dataset2_en = pd.read_csv(os.path.join(dataset2_path, \"train.en\"), sep=\"\\t\", names=[\"en\"])\n",
        "train_dataset2_vi = pd.read_csv(os.path.join(dataset2_path, \"train.vi\"), sep=\"\\t\", names=[\"vi\"])\n",
        "test_dataset2_en = pd.read_csv(os.path.join(dataset2_path, \"tst2012.en\"), sep=\"\\t\", names=[\"en\"])\n",
        "test_dataset2_vi = pd.read_csv(os.path.join(dataset2_path, \"tst2012.vi\"), sep=\"\\t\", names=[\"vi\"])"
      ],
      "metadata": {
        "id": "zUWSCCeTswMt"
      },
      "execution_count": null,
      "outputs": []
    },
    {
      "cell_type": "code",
      "source": [
        "merged_train = pd.concat([train_dataset2_en[\"en\"], train_dataset2_vi[\"vi\"], train_dataset1[\"en\"], train_dataset1[\"vi\"]], axis=1)\n",
        "merged_test = pd.concat([test_dataset2_en[\"en\"], test_dataset2_vi[\"vi\"], test_dataset1[\"en\"], test_dataset1[\"vi\"]], axis=1)"
      ],
      "metadata": {
        "id": "zTUhIg0Is0_0"
      },
      "execution_count": null,
      "outputs": []
    },
    {
      "cell_type": "code",
      "source": [
        "print(merged_train.head())"
      ],
      "metadata": {
        "colab": {
          "base_uri": "https://localhost:8080/"
        },
        "id": "r7VhI3TFs5bV",
        "outputId": "a4b2552b-68a5-4add-f36e-c6d2a8618645"
      },
      "execution_count": null,
      "outputs": [
        {
          "output_type": "stream",
          "name": "stdout",
          "text": [
            "                                                  en  \\\n",
            "0  Rachel Pike : The science behind a climate hea...   \n",
            "1  In 4 minutes , atmospheric chemist Rachel Pike...   \n",
            "2  I &apos;d like to talk to you today about the ...   \n",
            "3  Headlines that look like this when they have t...   \n",
            "4  They are both two branches of the same field o...   \n",
            "\n",
            "                                                  vi  \\\n",
            "0           Khoa học đằng sau một tiêu đề về khí hậu   \n",
            "1  Trong 4 phút , chuyên gia hoá học khí quyển Ra...   \n",
            "2  Tôi muốn cho các bạn biết về sự to lớn của nhữ...   \n",
            "3  Có những dòng trông như thế này khi bàn về biế...   \n",
            "4  Cả hai đều là một nhánh của cùng một lĩnh vực ...   \n",
            "\n",
            "                                                  en  \\\n",
            "0  Rachel Pike : The science behind a climate hea...   \n",
            "1  In 4 minutes , atmospheric chemist Rachel Pike...   \n",
            "2  I &apos;d like to talk to you today about the ...   \n",
            "3  Headlines that look like this when they have t...   \n",
            "4  They are both two branches of the same field o...   \n",
            "\n",
            "                                                  vi  \n",
            "0           Khoa_học đằng sau một tiêu_đề về khí_hậu  \n",
            "1  Trong 4 phút , chuyên_gia hoá_học khí_quyển Ra...  \n",
            "2  Tôi muốn cho các bạn biết về sự to_lớn của nhữ...  \n",
            "3  Có những dòng trông như thế_này khi bàn về biế...  \n",
            "4  Cả hai đều là một nhánh của cùng một lĩnh_vực ...  \n"
          ]
        }
      ]
    },
    {
      "cell_type": "code",
      "source": [
        "print(merged_test.head())"
      ],
      "metadata": {
        "colab": {
          "base_uri": "https://localhost:8080/"
        },
        "id": "D0_omoQrs9Oy",
        "outputId": "2e0fbae9-f6e4-4532-b8e4-c65bae10df58"
      },
      "execution_count": null,
      "outputs": [
        {
          "output_type": "stream",
          "name": "stdout",
          "text": [
            "                                                  en  \\\n",
            "0  How can I speak in 10 minutes about the bonds ...   \n",
            "1                     This is not a finished story .   \n",
            "2   It is a jigsaw puzzle still being put together .   \n",
            "3         Let me tell you about some of the pieces .   \n",
            "4  Imagine the first piece : a man burning his li...   \n",
            "\n",
            "                                                  vi  \\\n",
            "0  Làm sao tôi có thể trình bày trong 10 phút về ...   \n",
            "1                     Câu chuyện này chưa kết thúc .   \n",
            "2   Nó là một trò chơi ghép hình vẫn đang được xếp .   \n",
            "3   Hãy để tôi kể cho các bạn về vài mảnh ghép nhé .   \n",
            "4  Hãy tưởng tượng mảnh đầu tiên : một người đàn ...   \n",
            "\n",
            "                                                  en  \\\n",
            "0  How can I speak in 10 minutes about the bonds ...   \n",
            "1                     This is not a finished story .   \n",
            "2   It is a jigsaw puzzle still being put together .   \n",
            "3         Let me tell you about some of the pieces .   \n",
            "4  Imagine the first piece : a man burning his li...   \n",
            "\n",
            "                                                  vi  \n",
            "0  Làm_sao tôi có_thể trình_bày trong 10 phút về ...  \n",
            "1                     Câu_chuyện này chưa kết_thúc .  \n",
            "2   Nó là một trò_chơi ghép hình vẫn đang được xếp .  \n",
            "3   Hãy để tôi kể cho các bạn về vài mảnh ghép nhé .  \n",
            "4  Hãy tưởng_tượng mảnh đầu_tiên : một người đàn_...  \n"
          ]
        }
      ]
    },
    {
      "cell_type": "code",
      "source": [
        "merged_train.to_csv(\"/content/drive/MyDrive/Colab Notebooks/dataset4/train_merged.csv\", index=False)\n",
        "merged_test.to_csv(\"/content/drive/MyDrive/Colab Notebooks/dataset4/test_merged.csv\", index=False)"
      ],
      "metadata": {
        "id": "JHdbQNxFtChd"
      },
      "execution_count": 15,
      "outputs": []
    },
    {
      "cell_type": "code",
      "source": [],
      "metadata": {
        "id": "5wYbvAMctmog"
      },
      "execution_count": null,
      "outputs": []
    }
  ]
}